{
 "cells": [
  {
   "cell_type": "markdown",
   "id": "fbef55ba-ff63-4fc9-ae21-a2867553414e",
   "metadata": {},
   "source": [
    "### Using either R and Python. I.e, produce the solution with only one of R and Python\r\n",
    "Use any data structure of your choice to organize the following information\r\n",
    "Your names\r\n",
    "Your slack username\r\n",
    "Your email\r\n",
    "Your hobby\r\n",
    "Your countries\r\n",
    "Your discipline\r\n",
    "Your preferred programming language"
   ]
  },
  {
   "cell_type": "markdown",
   "id": "8da59128-fb3a-46a2-9f3c-7a5845b037f6",
   "metadata": {},
   "source": [
    "### Using dictionary as a data structure"
   ]
  },
  {
   "cell_type": "code",
   "execution_count": 1,
   "id": "24b7aa5a-0d1f-42f8-a4de-0f23b47f10f8",
   "metadata": {},
   "outputs": [],
   "source": [
    "#Creating a dictionary of all interns in Team Histidine\n",
    "\n",
    "intern_1 = {\"name\": \"Toluwalase Taiwo\",\n",
    "           \"slack_username\" : \"Lase\",\n",
    "           \"email\" : \"princesstoluwalase@gmail.com\",\n",
    "           \"hobby\" : \"sleeping\",\n",
    "           \"country\" : \"Nigeria\",\n",
    "           \"discipline\" : \"Data science and machine learning\",\n",
    "           \"programming_lang\" : \"Python\"}\n",
    "\n",
    "intern_2 = {\"name\": \"Samuel Ogunleye\",\n",
    "           \"slack_username\" : \"Sam\",\n",
    "           \"email\" : \"hellodevsproff@gmail.com\",\n",
    "           \"hobby\" : \"sleeping\",\n",
    "           \"country\" : \"Nigeria\",\n",
    "           \"discipline\" : \"FullStack\",\n",
    "           \"programming_lang\" : \"Python\"}\n",
    "\n",
    "intern_3 = {\"name\": \"Elias Korchi Meziani\",\n",
    "           \"slack_username\" : \"Elias\",\n",
    "           \"email\" : \"elias.k.meziani@gmail.com\",\n",
    "           \"hobby\" : \"sleeping\",\n",
    "           \"country\" : \"Egypt\",\n",
    "           \"discipline\" : \"Cell Biology\",\n",
    "           \"programming_lang\" : \"Python\"}\n",
    "\n",
    "\n",
    "intern_4 = {\"name\": \"Muniru Elijah Taiwo\",\n",
    "           \"slack_username\" : \"MuniruElijah\",\n",
    "           \"email\" : \"muniruelijah@gmail.com\",\n",
    "           \"hobby\" : \"sleeping\",\n",
    "           \"country\" : \"Nigeria\",\n",
    "           \"discipline\" : \"Data science and machine learning\",\n",
    "           \"programming_lang\" : \"R\"}\n",
    "\n",
    "intern_5 = {\"name\": \"Stella Adediwura\",\n",
    "           \"slack_username\" : \"Stella\",\n",
    "           \"email\" : \"ifeoluwastella02@gmail.com\",\n",
    "           \"hobby\" : \"sleeping\",\n",
    "           \"country\" : \"Nigeria\",\n",
    "           \"discipline\" : \"Data science and machine learning\",\n",
    "           \"programming_lang\" : \"Python\"}"
   ]
  },
  {
   "cell_type": "code",
   "execution_count": 2,
   "id": "2afa5158-e1b3-4bf4-b1ed-5c180b3f1364",
   "metadata": {},
   "outputs": [],
   "source": [
    "#assigning the dictionaries of each interns into a single variable name\n",
    "intern_details = {'Intern1': intern_1, \n",
    "            'Intern2': intern_2, \n",
    "            'Intern3': intern_3, \n",
    "            'Intern4': intern_4,\n",
    "            'Intern5': intern_5}\n"
   ]
  },
  {
   "cell_type": "code",
   "execution_count": 3,
   "id": "503c59c6-76eb-4a70-b19a-ae6d6f29ca1d",
   "metadata": {},
   "outputs": [
    {
     "name": "stdout",
     "output_type": "stream",
     "text": [
      "{'Intern1': {'name': 'Toluwalase Taiwo', 'slack_username': 'Lase', 'email': 'princesstoluwalase@gmail.com', 'hobby': 'sleeping', 'country': 'Nigeria', 'discipline': 'Data science and machine learning', 'programming_lang': 'Python'}, 'Intern2': {'name': 'Samuel Ogunleye', 'slack_username': 'Sam', 'email': 'hellodevsproff@gmail.com', 'hobby': 'sleeping', 'country': 'Nigeria', 'discipline': 'FullStack', 'programming_lang': 'Python'}, 'Intern3': {'name': 'Elias Korchi Meziani', 'slack_username': 'Elias', 'email': 'elias.k.meziani@gmail.com', 'hobby': 'sleeping', 'country': 'Egypt', 'discipline': 'Cell Biology', 'programming_lang': 'Python'}, 'Intern4': {'name': 'Muniru Elijah Taiwo', 'slack_username': 'MuniruElijah', 'email': 'muniruelijah@gmail.com', 'hobby': 'sleeping', 'country': 'Nigeria', 'discipline': 'Data science and machine learning', 'programming_lang': 'R'}, 'Intern5': {'name': 'Stella Adediwura', 'slack_username': 'Stella', 'email': 'ifeoluwastella02@gmail.com', 'hobby': 'sleeping', 'country': 'Nigeria', 'discipline': 'Data science and machine learning', 'programming_lang': 'Python'}}\n"
     ]
    }
   ],
   "source": [
    "# Using the print statement that prints the organized output in a logical and understandable way\n",
    "\n",
    "print(intern_details)"
   ]
  },
  {
   "cell_type": "code",
   "execution_count": 4,
   "id": "37829623-a97f-4b77-80b3-aa08d17605a3",
   "metadata": {},
   "outputs": [
    {
     "data": {
      "text/plain": [
       "'Toluwalase Taiwo'"
      ]
     },
     "execution_count": 4,
     "metadata": {},
     "output_type": "execute_result"
    }
   ],
   "source": [
    "intern_1['name']"
   ]
  },
  {
   "cell_type": "markdown",
   "id": "a48994d4-1551-463b-b00d-ea21aaf32915",
   "metadata": {},
   "source": [
    "### Using Nested List"
   ]
  },
  {
   "cell_type": "code",
   "execution_count": 5,
   "id": "9067aa0d-88c4-4520-9f32-c9773200ccde",
   "metadata": {},
   "outputs": [],
   "source": [
    "#Creating a nested list with details of each interns\n",
    "\n",
    "interns_details = [[\"Toluwalase Taiwo\", \"Lase\", \"princesstoluwalase@gmail.com\",\n",
    "                    \"sleeping\",\"Nigeria\",\"Data science and machine learning\",\"Python\"],\n",
    "                   [\"Samuel Ogunleye\",\"Sam\",\"hellodevsproff@gmail.com\",\"sleeping\",\n",
    "                    \"Nigeria\",\"FullStack\",\"Python\"],\n",
    "                  [\"Elias Korchi Meziani\",\"Elias\",\"elias.k.meziani@gmail.com\",\n",
    "                   \"sleeping\",\"Egypt\",\"Cell Biology\",\"Python\"],\n",
    "                  [\"Muniru Elijah Taiwo\",\"MuniruElijah\",\"muniruelijah@gmail.com\",\"sleeping\",\n",
    "                   \"Nigeria\",\"Data science and machine learning\",\"R\"],\n",
    "                  [\"Stella Adediwura\",\"Stella\",\"ifeoluwastella02@gmail.com\",\"sleeping\",\"Nigeria\",\n",
    "                   \"Data science and machine learning\",\"Python\"]]"
   ]
  },
  {
   "cell_type": "code",
   "execution_count": 6,
   "id": "9ad79c0e-4bae-4468-824b-388cd22ebc8e",
   "metadata": {},
   "outputs": [
    {
     "name": "stdout",
     "output_type": "stream",
     "text": [
      "[['Toluwalase Taiwo', 'Lase', 'princesstoluwalase@gmail.com', 'sleeping', 'Nigeria', 'Data science and machine learning', 'Python'], ['Samuel Ogunleye', 'Sam', 'hellodevsproff@gmail.com', 'sleeping', 'Nigeria', 'FullStack', 'Python'], ['Elias Korchi Meziani', 'Elias', 'elias.k.meziani@gmail.com', 'sleeping', 'Egypt', 'Cell Biology', 'Python'], ['Muniru Elijah Taiwo', 'MuniruElijah', 'muniruelijah@gmail.com', 'sleeping', 'Nigeria', 'Data science and machine learning', 'R'], ['Stella Adediwura', 'Stella', 'ifeoluwastella02@gmail.com', 'sleeping', 'Nigeria', 'Data science and machine learning', 'Python']]\n"
     ]
    }
   ],
   "source": [
    "#display result of the nested list\n",
    "\n",
    "print(interns_details)"
   ]
  },
  {
   "cell_type": "markdown",
   "id": "61c69234-d773-4879-9f2c-69d90ba02f48",
   "metadata": {},
   "source": [
    "### Using list data structure"
   ]
  },
  {
   "cell_type": "code",
   "execution_count": 7,
   "id": "e0886e4b-5149-4d50-9dec-97e0309d7e48",
   "metadata": {},
   "outputs": [],
   "source": [
    "#creating a list of interns details \n",
    "\n",
    "names = ['Toluwalase Taiwo', 'Samuel Ogunleye', 'Elias Korchi Meziani', 'Muniru Elijah Taiwo', 'Stella Adediwura']\n",
    "slack_usernames = ['Lase', 'Sam', 'Elias', 'MuniruElijah', 'Stella']\n",
    "email = ['princesstoluwalase@gmail.com', 'hellodevsproff@gmail.com', 'elias.k.meziani@gmail.com',\n",
    "        'muniruelijah@gmail.com', 'ifeoluwastella02@gmail.com']\n",
    "hobbies= ['sleeping','sleeping', 'sleeping', 'writing', 'dancing']\n",
    "country = ['Nigeria', 'Nigeria', 'Egypt', 'Nigeria', 'United Kingdom']\n",
    "discipline = ['Data science and Machine Learning', 'Web Development', 'Drug discovery', 'Oncology', 'Bioinformatics']\n",
    "pref_lang = ['Python', 'Python', 'Python', 'R', 'Python']\n",
    "\n",
    "intern_details = [names, slack_usernames, email, hobbies, country, discipline, pref_lang]"
   ]
  },
  {
   "cell_type": "code",
   "execution_count": 8,
   "id": "2c7751bc-a4ba-4e62-bf27-7852135abfa5",
   "metadata": {},
   "outputs": [
    {
     "name": "stdout",
     "output_type": "stream",
     "text": [
      "[['Toluwalase Taiwo', 'Samuel Ogunleye', 'Elias Korchi Meziani', 'Muniru Elijah Taiwo', 'Stella Adediwura'], ['Lase', 'Sam', 'Elias', 'MuniruElijah', 'Stella'], ['princesstoluwalase@gmail.com', 'hellodevsproff@gmail.com', 'elias.k.meziani@gmail.com', 'muniruelijah@gmail.com', 'ifeoluwastella02@gmail.com'], ['sleeping', 'sleeping', 'sleeping', 'writing', 'dancing'], ['Nigeria', 'Nigeria', 'Egypt', 'Nigeria', 'United Kingdom'], ['Data science and Machine Learning', 'Web Development', 'Drug discovery', 'Oncology', 'Bioinformatics'], ['Python', 'Python', 'Python', 'R', 'Python']]\n"
     ]
    }
   ],
   "source": [
    "print(intern_details)"
   ]
  },
  {
   "cell_type": "markdown",
   "id": "a3468f14-8b7b-4cac-bd60-abac4c865294",
   "metadata": {},
   "source": [
    "### Using List in Dictionary"
   ]
  },
  {
   "cell_type": "code",
   "execution_count": 9,
   "id": "52d5cc9b-6e6c-4131-a91d-36f581a3cc1a",
   "metadata": {},
   "outputs": [
    {
     "name": "stdout",
     "output_type": "stream",
     "text": [
      "{'names': ['Toluwalase Taiwo', 'Samuel Ogunleye', 'Elias Korchi Meziani', 'Muniru Elijah Taiwo', 'Stella Adediwura'], 'slack_usernames': ['Lase', 'Sam', 'Elias', 'MuniruElijah', 'Stella'], 'email': ['princesstoluwalase@gmail.com', 'hellodevsproff@gmail.com', 'elias.k.meziani@gmail.com', 'muniruelijah@gmail.com', 'ifeoluwastella02@gmail.com'], 'hobby': ['sleeping', 'sleeping', 'sleeping', 'writing', 'dancing'], 'country': ['Nigeria', 'Egypt', 'Nigeria', 'United Kingdom', 'Nigeria'], 'discipline': ['Data science and Machine Learning', 'Web Development', 'Drug discovery', 'Oncology', 'Bioinformatics'], 'pref_lang': ['Python', 'Python', 'Python', 'R', 'Python']}\n"
     ]
    }
   ],
   "source": [
    "Interns_details =  {'names' : ['Toluwalase Taiwo', 'Samuel Ogunleye', 'Elias Korchi Meziani', \n",
    "                             'Muniru Elijah Taiwo', 'Stella Adediwura'],\n",
    "                    'slack_usernames' : ['Lase', 'Sam', 'Elias', 'MuniruElijah', 'Stella'],\n",
    "                   'email' : ['princesstoluwalase@gmail.com', 'hellodevsproff@gmail.com', 'elias.k.meziani@gmail.com',\n",
    "                           'muniruelijah@gmail.com', 'ifeoluwastella02@gmail.com'],\n",
    "                   'hobby' : ['sleeping', 'sleeping', 'sleeping', 'writing', 'dancing'],\n",
    "                   'country' : ['Nigeria', 'Egypt', 'Nigeria', 'United Kingdom', 'Nigeria'],\n",
    "                   'discipline' : ['Data science and Machine Learning', 'Web Development', 'Drug discovery',\n",
    "                   'Oncology', 'Bioinformatics'],\n",
    "                   'pref_lang' : ['Python', 'Python', 'Python', 'R', 'Python']}\n",
    "\n",
    "print(Interns_details)"
   ]
  },
  {
   "cell_type": "code",
   "execution_count": null,
   "id": "8f0c3ffc-f740-4573-8c78-20cf6776b2e8",
   "metadata": {},
   "outputs": [],
   "source": []
  }
 ],
 "metadata": {
  "kernelspec": {
   "display_name": "Python 3 (ipykernel)",
   "language": "python",
   "name": "python3"
  },
  "language_info": {
   "codemirror_mode": {
    "name": "ipython",
    "version": 3
   },
   "file_extension": ".py",
   "mimetype": "text/x-python",
   "name": "python",
   "nbconvert_exporter": "python",
   "pygments_lexer": "ipython3",
   "version": "3.11.7"
  }
 },
 "nbformat": 4,
 "nbformat_minor": 5
}
