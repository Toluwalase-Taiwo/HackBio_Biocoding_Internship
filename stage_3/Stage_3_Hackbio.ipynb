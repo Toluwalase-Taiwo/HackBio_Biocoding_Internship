{
 "cells": [
  {
   "cell_type": "code",
   "execution_count": 1,
   "id": "99b1856f-1317-4c89-8016-bbf6000d110d",
   "metadata": {},
   "outputs": [],
   "source": [
    "#importing necessary libraries\n",
    "import pandas as pd\n",
    "import numpy as np\n",
    "import seaborn as sns\n",
    "import matplotlib.pyplot as plt\n",
    "import sklearn "
   ]
  },
  {
   "cell_type": "code",
   "execution_count": 2,
   "id": "99d8bc0e-7eaa-44c6-9d18-078aee1a3067",
   "metadata": {},
   "outputs": [],
   "source": [
    "#Loading the dataset\n",
    "\n",
    "df_link = \"https://raw.githubusercontent.com/PacktPublishing/Machine-Learning-in-Biotechnology-and-Life-Sciences/refs/heads/main/datasets/dataset_wisc_sd.csv\""
   ]
  },
  {
   "cell_type": "code",
   "execution_count": 3,
   "id": "95bb1310-85bf-4197-a992-28650a7d026a",
   "metadata": {},
   "outputs": [
    {
     "data": {
      "text/html": [
       "<div>\n",
       "<style scoped>\n",
       "    .dataframe tbody tr th:only-of-type {\n",
       "        vertical-align: middle;\n",
       "    }\n",
       "\n",
       "    .dataframe tbody tr th {\n",
       "        vertical-align: top;\n",
       "    }\n",
       "\n",
       "    .dataframe thead th {\n",
       "        text-align: right;\n",
       "    }\n",
       "</style>\n",
       "<table border=\"1\" class=\"dataframe\">\n",
       "  <thead>\n",
       "    <tr style=\"text-align: right;\">\n",
       "      <th></th>\n",
       "      <th>0</th>\n",
       "      <th>1</th>\n",
       "      <th>2</th>\n",
       "      <th>3</th>\n",
       "      <th>4</th>\n",
       "    </tr>\n",
       "  </thead>\n",
       "  <tbody>\n",
       "    <tr>\n",
       "      <th>id</th>\n",
       "      <td>842302</td>\n",
       "      <td>842517</td>\n",
       "      <td>84300903</td>\n",
       "      <td>84348301</td>\n",
       "      <td>84358402</td>\n",
       "    </tr>\n",
       "    <tr>\n",
       "      <th>diagnosis</th>\n",
       "      <td>M</td>\n",
       "      <td>M</td>\n",
       "      <td>M</td>\n",
       "      <td>M</td>\n",
       "      <td>M</td>\n",
       "    </tr>\n",
       "    <tr>\n",
       "      <th>radius_mean</th>\n",
       "      <td>17.99</td>\n",
       "      <td>20.57</td>\n",
       "      <td>19.69</td>\n",
       "      <td>11.42</td>\n",
       "      <td>20.29</td>\n",
       "    </tr>\n",
       "    <tr>\n",
       "      <th>texture_mean</th>\n",
       "      <td>10.38</td>\n",
       "      <td>17.77</td>\n",
       "      <td>21.25</td>\n",
       "      <td>20.38</td>\n",
       "      <td>14.34</td>\n",
       "    </tr>\n",
       "    <tr>\n",
       "      <th>perimeter_mean</th>\n",
       "      <td>122.8</td>\n",
       "      <td>132.9</td>\n",
       "      <td>130.0</td>\n",
       "      <td>77.58</td>\n",
       "      <td>135.1</td>\n",
       "    </tr>\n",
       "    <tr>\n",
       "      <th>area_mean</th>\n",
       "      <td>1001.0</td>\n",
       "      <td>1326.0</td>\n",
       "      <td>1203.0</td>\n",
       "      <td>386.1</td>\n",
       "      <td>1297.0</td>\n",
       "    </tr>\n",
       "    <tr>\n",
       "      <th>smoothness_mean</th>\n",
       "      <td>0.1184</td>\n",
       "      <td>0.08474</td>\n",
       "      <td>0.1096</td>\n",
       "      <td>0.1425</td>\n",
       "      <td>0.1003</td>\n",
       "    </tr>\n",
       "    <tr>\n",
       "      <th>compactness_mean</th>\n",
       "      <td>0.2776</td>\n",
       "      <td>0.07864</td>\n",
       "      <td>0.1599</td>\n",
       "      <td>0.2839</td>\n",
       "      <td>0.1328</td>\n",
       "    </tr>\n",
       "    <tr>\n",
       "      <th>concavity_mean</th>\n",
       "      <td>0.3001</td>\n",
       "      <td>0.0869</td>\n",
       "      <td>0.1974</td>\n",
       "      <td>0.2414</td>\n",
       "      <td>0.198</td>\n",
       "    </tr>\n",
       "    <tr>\n",
       "      <th>concave points_mean</th>\n",
       "      <td>0.1471</td>\n",
       "      <td>0.07017</td>\n",
       "      <td>0.1279</td>\n",
       "      <td>0.1052</td>\n",
       "      <td>0.1043</td>\n",
       "    </tr>\n",
       "    <tr>\n",
       "      <th>symmetry_mean</th>\n",
       "      <td>0.2419</td>\n",
       "      <td>0.1812</td>\n",
       "      <td>0.2069</td>\n",
       "      <td>0.2597</td>\n",
       "      <td>0.1809</td>\n",
       "    </tr>\n",
       "    <tr>\n",
       "      <th>fractal_dimension_mean</th>\n",
       "      <td>0.07871</td>\n",
       "      <td>0.05667</td>\n",
       "      <td>0.05999</td>\n",
       "      <td>0.09744</td>\n",
       "      <td>0.05883</td>\n",
       "    </tr>\n",
       "    <tr>\n",
       "      <th>radius_se</th>\n",
       "      <td>1.095</td>\n",
       "      <td>0.5435</td>\n",
       "      <td>0.7456</td>\n",
       "      <td>0.4956</td>\n",
       "      <td>0.7572</td>\n",
       "    </tr>\n",
       "    <tr>\n",
       "      <th>texture_se</th>\n",
       "      <td>0.9053</td>\n",
       "      <td>0.7339</td>\n",
       "      <td>0.7869</td>\n",
       "      <td>1.156</td>\n",
       "      <td>0.7813</td>\n",
       "    </tr>\n",
       "    <tr>\n",
       "      <th>perimeter_se</th>\n",
       "      <td>8.589</td>\n",
       "      <td>3.398</td>\n",
       "      <td>4.585</td>\n",
       "      <td>3.445</td>\n",
       "      <td>5.438</td>\n",
       "    </tr>\n",
       "    <tr>\n",
       "      <th>area_se</th>\n",
       "      <td>153.4</td>\n",
       "      <td>74.08</td>\n",
       "      <td>94.03</td>\n",
       "      <td>27.23</td>\n",
       "      <td>94.44</td>\n",
       "    </tr>\n",
       "    <tr>\n",
       "      <th>smoothness_se</th>\n",
       "      <td>0.006399</td>\n",
       "      <td>0.005225</td>\n",
       "      <td>0.00615</td>\n",
       "      <td>0.00911</td>\n",
       "      <td>0.01149</td>\n",
       "    </tr>\n",
       "    <tr>\n",
       "      <th>compactness_se</th>\n",
       "      <td>0.04904</td>\n",
       "      <td>0.01308</td>\n",
       "      <td>0.04006</td>\n",
       "      <td>0.07458</td>\n",
       "      <td>0.02461</td>\n",
       "    </tr>\n",
       "    <tr>\n",
       "      <th>concavity_se</th>\n",
       "      <td>0.05373</td>\n",
       "      <td>0.0186</td>\n",
       "      <td>0.03832</td>\n",
       "      <td>0.05661</td>\n",
       "      <td>0.05688</td>\n",
       "    </tr>\n",
       "    <tr>\n",
       "      <th>concave points_se</th>\n",
       "      <td>0.01587</td>\n",
       "      <td>0.0134</td>\n",
       "      <td>0.02058</td>\n",
       "      <td>0.01867</td>\n",
       "      <td>0.01885</td>\n",
       "    </tr>\n",
       "    <tr>\n",
       "      <th>symmetry_se</th>\n",
       "      <td>0.03003</td>\n",
       "      <td>0.01389</td>\n",
       "      <td>0.0225</td>\n",
       "      <td>0.05963</td>\n",
       "      <td>0.01756</td>\n",
       "    </tr>\n",
       "    <tr>\n",
       "      <th>fractal_dimension_se</th>\n",
       "      <td>0.006193</td>\n",
       "      <td>0.003532</td>\n",
       "      <td>0.004571</td>\n",
       "      <td>0.009208</td>\n",
       "      <td>0.005115</td>\n",
       "    </tr>\n",
       "    <tr>\n",
       "      <th>radius_worst</th>\n",
       "      <td>25.38</td>\n",
       "      <td>24.99</td>\n",
       "      <td>23.57</td>\n",
       "      <td>14.91</td>\n",
       "      <td>22.54</td>\n",
       "    </tr>\n",
       "    <tr>\n",
       "      <th>texture_worst</th>\n",
       "      <td>17.33</td>\n",
       "      <td>23.41</td>\n",
       "      <td>25.53</td>\n",
       "      <td>26.5</td>\n",
       "      <td>16.67</td>\n",
       "    </tr>\n",
       "    <tr>\n",
       "      <th>perimeter_worst</th>\n",
       "      <td>184.6</td>\n",
       "      <td>158.8</td>\n",
       "      <td>152.5</td>\n",
       "      <td>98.87</td>\n",
       "      <td>152.2</td>\n",
       "    </tr>\n",
       "    <tr>\n",
       "      <th>area_worst</th>\n",
       "      <td>2019.0</td>\n",
       "      <td>1956.0</td>\n",
       "      <td>1709.0</td>\n",
       "      <td>567.7</td>\n",
       "      <td>1575.0</td>\n",
       "    </tr>\n",
       "    <tr>\n",
       "      <th>smoothness_worst</th>\n",
       "      <td>0.1622</td>\n",
       "      <td>0.1238</td>\n",
       "      <td>0.1444</td>\n",
       "      <td>0.2098</td>\n",
       "      <td>0.1374</td>\n",
       "    </tr>\n",
       "    <tr>\n",
       "      <th>compactness_worst</th>\n",
       "      <td>0.6656</td>\n",
       "      <td>0.1866</td>\n",
       "      <td>0.4245</td>\n",
       "      <td>0.8663</td>\n",
       "      <td>0.205</td>\n",
       "    </tr>\n",
       "    <tr>\n",
       "      <th>concavity_worst</th>\n",
       "      <td>0.7119</td>\n",
       "      <td>0.2416</td>\n",
       "      <td>0.4504</td>\n",
       "      <td>0.6869</td>\n",
       "      <td>0.4</td>\n",
       "    </tr>\n",
       "    <tr>\n",
       "      <th>concave points_worst</th>\n",
       "      <td>0.2654</td>\n",
       "      <td>0.186</td>\n",
       "      <td>0.243</td>\n",
       "      <td>0.2575</td>\n",
       "      <td>0.1625</td>\n",
       "    </tr>\n",
       "    <tr>\n",
       "      <th>symmetry_worst</th>\n",
       "      <td>0.4601</td>\n",
       "      <td>0.275</td>\n",
       "      <td>0.3613</td>\n",
       "      <td>0.6638</td>\n",
       "      <td>0.2364</td>\n",
       "    </tr>\n",
       "    <tr>\n",
       "      <th>fractal_dimension_worst</th>\n",
       "      <td>0.1189</td>\n",
       "      <td>0.08902</td>\n",
       "      <td>0.08758</td>\n",
       "      <td>0.173</td>\n",
       "      <td>0.07678</td>\n",
       "    </tr>\n",
       "  </tbody>\n",
       "</table>\n",
       "</div>"
      ],
      "text/plain": [
       "                                0         1         2         3         4\n",
       "id                         842302    842517  84300903  84348301  84358402\n",
       "diagnosis                       M         M         M         M         M\n",
       "radius_mean                 17.99     20.57     19.69     11.42     20.29\n",
       "texture_mean                10.38     17.77     21.25     20.38     14.34\n",
       "perimeter_mean              122.8     132.9     130.0     77.58     135.1\n",
       "area_mean                  1001.0    1326.0    1203.0     386.1    1297.0\n",
       "smoothness_mean            0.1184   0.08474    0.1096    0.1425    0.1003\n",
       "compactness_mean           0.2776   0.07864    0.1599    0.2839    0.1328\n",
       "concavity_mean             0.3001    0.0869    0.1974    0.2414     0.198\n",
       "concave points_mean        0.1471   0.07017    0.1279    0.1052    0.1043\n",
       "symmetry_mean              0.2419    0.1812    0.2069    0.2597    0.1809\n",
       "fractal_dimension_mean    0.07871   0.05667   0.05999   0.09744   0.05883\n",
       "radius_se                   1.095    0.5435    0.7456    0.4956    0.7572\n",
       "texture_se                 0.9053    0.7339    0.7869     1.156    0.7813\n",
       "perimeter_se                8.589     3.398     4.585     3.445     5.438\n",
       "area_se                     153.4     74.08     94.03     27.23     94.44\n",
       "smoothness_se            0.006399  0.005225   0.00615   0.00911   0.01149\n",
       "compactness_se            0.04904   0.01308   0.04006   0.07458   0.02461\n",
       "concavity_se              0.05373    0.0186   0.03832   0.05661   0.05688\n",
       "concave points_se         0.01587    0.0134   0.02058   0.01867   0.01885\n",
       "symmetry_se               0.03003   0.01389    0.0225   0.05963   0.01756\n",
       "fractal_dimension_se     0.006193  0.003532  0.004571  0.009208  0.005115\n",
       "radius_worst                25.38     24.99     23.57     14.91     22.54\n",
       "texture_worst               17.33     23.41     25.53      26.5     16.67\n",
       "perimeter_worst             184.6     158.8     152.5     98.87     152.2\n",
       "area_worst                 2019.0    1956.0    1709.0     567.7    1575.0\n",
       "smoothness_worst           0.1622    0.1238    0.1444    0.2098    0.1374\n",
       "compactness_worst          0.6656    0.1866    0.4245    0.8663     0.205\n",
       "concavity_worst            0.7119    0.2416    0.4504    0.6869       0.4\n",
       "concave points_worst       0.2654     0.186     0.243    0.2575    0.1625\n",
       "symmetry_worst             0.4601     0.275    0.3613    0.6638    0.2364\n",
       "fractal_dimension_worst    0.1189   0.08902   0.08758     0.173   0.07678"
      ]
     },
     "execution_count": 3,
     "metadata": {},
     "output_type": "execute_result"
    }
   ],
   "source": [
    "df = pd.read_csv(df_link)\n",
    "df.head().T"
   ]
  },
  {
   "cell_type": "code",
   "execution_count": 4,
   "id": "06ea3a45-61d7-4f92-a918-f1fe8fe08318",
   "metadata": {},
   "outputs": [
    {
     "data": {
      "text/plain": [
       "(569, 32)"
      ]
     },
     "execution_count": 4,
     "metadata": {},
     "output_type": "execute_result"
    }
   ],
   "source": [
    "#rows and columns\n",
    "df.shape"
   ]
  },
  {
   "cell_type": "code",
   "execution_count": 5,
   "id": "9ca48914-5976-40ce-a1d9-f2f88012cdd4",
   "metadata": {},
   "outputs": [
    {
     "data": {
      "text/plain": [
       "Index(['id', 'diagnosis', 'radius_mean', 'texture_mean', 'perimeter_mean',\n",
       "       'area_mean', 'smoothness_mean', 'compactness_mean', 'concavity_mean',\n",
       "       'concave points_mean', 'symmetry_mean', 'fractal_dimension_mean',\n",
       "       'radius_se', 'texture_se', 'perimeter_se', 'area_se', 'smoothness_se',\n",
       "       'compactness_se', 'concavity_se', 'concave points_se', 'symmetry_se',\n",
       "       'fractal_dimension_se', 'radius_worst', 'texture_worst',\n",
       "       'perimeter_worst', 'area_worst', 'smoothness_worst',\n",
       "       'compactness_worst', 'concavity_worst', 'concave points_worst',\n",
       "       'symmetry_worst', 'fractal_dimension_worst'],\n",
       "      dtype='object')"
      ]
     },
     "execution_count": 5,
     "metadata": {},
     "output_type": "execute_result"
    }
   ],
   "source": [
    "df.columns"
   ]
  },
  {
   "cell_type": "code",
   "execution_count": 6,
   "id": "f51a2f18-b7bf-4eed-b245-ab18835c3357",
   "metadata": {},
   "outputs": [
    {
     "data": {
      "text/plain": [
       "id                         0\n",
       "diagnosis                  0\n",
       "radius_mean                0\n",
       "texture_mean               0\n",
       "perimeter_mean             0\n",
       "area_mean                  2\n",
       "smoothness_mean            0\n",
       "compactness_mean           0\n",
       "concavity_mean             0\n",
       "concave points_mean        0\n",
       "symmetry_mean              0\n",
       "fractal_dimension_mean     0\n",
       "radius_se                  3\n",
       "texture_se                 0\n",
       "perimeter_se               0\n",
       "area_se                    0\n",
       "smoothness_se              0\n",
       "compactness_se             0\n",
       "concavity_se               0\n",
       "concave points_se          0\n",
       "symmetry_se                0\n",
       "fractal_dimension_se       1\n",
       "radius_worst               0\n",
       "texture_worst              0\n",
       "perimeter_worst            0\n",
       "area_worst                 0\n",
       "smoothness_worst           1\n",
       "compactness_worst          0\n",
       "concavity_worst            0\n",
       "concave points_worst       0\n",
       "symmetry_worst             0\n",
       "fractal_dimension_worst    0\n",
       "dtype: int64"
      ]
     },
     "execution_count": 6,
     "metadata": {},
     "output_type": "execute_result"
    }
   ],
   "source": [
    "#total number of null values\n",
    "df.isnull().sum()"
   ]
  },
  {
   "cell_type": "code",
   "execution_count": 7,
   "id": "2fd94418-5499-4ca4-9682-77b10698b4fb",
   "metadata": {},
   "outputs": [
    {
     "data": {
      "text/plain": [
       "id                         0\n",
       "diagnosis                  0\n",
       "radius_mean                0\n",
       "texture_mean               0\n",
       "perimeter_mean             0\n",
       "area_mean                  0\n",
       "smoothness_mean            0\n",
       "compactness_mean           0\n",
       "concavity_mean             0\n",
       "concave points_mean        0\n",
       "symmetry_mean              0\n",
       "fractal_dimension_mean     0\n",
       "radius_se                  0\n",
       "texture_se                 0\n",
       "perimeter_se               0\n",
       "area_se                    0\n",
       "smoothness_se              0\n",
       "compactness_se             0\n",
       "concavity_se               0\n",
       "concave points_se          0\n",
       "symmetry_se                0\n",
       "fractal_dimension_se       0\n",
       "radius_worst               0\n",
       "texture_worst              0\n",
       "perimeter_worst            0\n",
       "area_worst                 0\n",
       "smoothness_worst           0\n",
       "compactness_worst          0\n",
       "concavity_worst            0\n",
       "concave points_worst       0\n",
       "symmetry_worst             0\n",
       "fractal_dimension_worst    0\n",
       "dtype: int64"
      ]
     },
     "execution_count": 7,
     "metadata": {},
     "output_type": "execute_result"
    }
   ],
   "source": [
    "#fill NaN values using the mean\n",
    "\n",
    "df['area_mean']= df['area_mean'].fillna(df['area_mean'].mean())\n",
    "df['radius_se']= df['radius_se'].fillna(df['radius_se'].mean())\n",
    "df['smoothness_worst']= df['smoothness_worst'].fillna(df['smoothness_worst'].mean())\n",
    "df['fractal_dimension_se']= df['fractal_dimension_se'].fillna(df['fractal_dimension_se'].mean())\n",
    "\n",
    "df.isnull().sum()"
   ]
  },
  {
   "cell_type": "code",
   "execution_count": 8,
   "id": "739bc95a-c4a8-4969-bc0b-b6d915434232",
   "metadata": {},
   "outputs": [
    {
     "data": {
      "text/plain": [
       "(212, 32)"
      ]
     },
     "execution_count": 8,
     "metadata": {},
     "output_type": "execute_result"
    }
   ],
   "source": [
    "#number of patients with malignant cancerous cells\n",
    "malignant = df[df['diagnosis'] == 'M'].shape\n",
    "malignant"
   ]
  },
  {
   "cell_type": "code",
   "execution_count": 9,
   "id": "24b9d469-f873-4eb0-96fe-80003d396f00",
   "metadata": {},
   "outputs": [
    {
     "data": {
      "text/plain": [
       "(357, 32)"
      ]
     },
     "execution_count": 9,
     "metadata": {},
     "output_type": "execute_result"
    }
   ],
   "source": [
    "#number of patients with benign cancerous cells\n",
    "\n",
    "benign = df[df['diagnosis'] == \"B\"].shape\n",
    "benign"
   ]
  },
  {
   "cell_type": "code",
   "execution_count": 10,
   "id": "08038500-d730-4317-89f8-ab11533d7d89",
   "metadata": {},
   "outputs": [],
   "source": [
    "#change object dtype into float\n",
    "df['concave points_worst'] = df['concave points_worst'].str.replace('\\\\n\\\\n','').astype(float)"
   ]
  },
  {
   "cell_type": "code",
   "execution_count": 11,
   "id": "40504db3-ddd0-4a70-91bc-455002796536",
   "metadata": {},
   "outputs": [
    {
     "data": {
      "text/plain": [
       "id                           int64\n",
       "diagnosis                   object\n",
       "radius_mean                float64\n",
       "texture_mean               float64\n",
       "perimeter_mean             float64\n",
       "area_mean                  float64\n",
       "smoothness_mean            float64\n",
       "compactness_mean           float64\n",
       "concavity_mean             float64\n",
       "concave points_mean        float64\n",
       "symmetry_mean              float64\n",
       "fractal_dimension_mean     float64\n",
       "radius_se                  float64\n",
       "texture_se                 float64\n",
       "perimeter_se               float64\n",
       "area_se                    float64\n",
       "smoothness_se              float64\n",
       "compactness_se             float64\n",
       "concavity_se               float64\n",
       "concave points_se          float64\n",
       "symmetry_se                float64\n",
       "fractal_dimension_se       float64\n",
       "radius_worst               float64\n",
       "texture_worst              float64\n",
       "perimeter_worst            float64\n",
       "area_worst                 float64\n",
       "smoothness_worst           float64\n",
       "compactness_worst          float64\n",
       "concavity_worst            float64\n",
       "concave points_worst       float64\n",
       "symmetry_worst             float64\n",
       "fractal_dimension_worst    float64\n",
       "dtype: object"
      ]
     },
     "execution_count": 11,
     "metadata": {},
     "output_type": "execute_result"
    }
   ],
   "source": [
    "df.dtypes"
   ]
  },
  {
   "cell_type": "code",
   "execution_count": 12,
   "id": "203dcb34-f4c3-46a2-9063-1e990eb8166a",
   "metadata": {},
   "outputs": [],
   "source": [
    "#splitting our data into features (X) and target (y)\n",
    "\n",
    "X = df.drop('diagnosis', axis = 1)\n",
    "y = df['diagnosis']"
   ]
  },
  {
   "cell_type": "code",
   "execution_count": 13,
   "id": "38e35b12-b556-4fa8-9ada-85ae48613174",
   "metadata": {},
   "outputs": [],
   "source": [
    "#Normalizing our data\n",
    "from sklearn.preprocessing import StandardScaler\n",
    "\n",
    "#initialize the scaler \n",
    "scaler = StandardScaler()\n",
    "\n",
    "#fit and transform\n",
    "scaled_data = scaler.fit_transform(X)"
   ]
  },
  {
   "cell_type": "markdown",
   "id": "f91a3f0c-0987-4d1f-b3d1-5d17b5a7dbce",
   "metadata": {},
   "source": [
    "### Elbow Method\n",
    "#### Using the Elbow Method to determine the optimal number of clusters (K) in KMeans Clustering"
   ]
  },
  {
   "cell_type": "code",
   "execution_count": 14,
   "id": "429bcbc1-a0f7-49a6-9c6d-ad23d79bc985",
   "metadata": {},
   "outputs": [
    {
     "data": {
      "image/png": "[encoded data removed]",
      "text/plain": [
       "<Figure size 640x480 with 1 Axes>"
      ]
     },
     "metadata": {},
     "output_type": "display_data"
    }
   ],
   "source": [
    "from sklearn.cluster import KMeans\n",
    "\n",
    "# Initialize empty list to store inertia values\n",
    "inertias = []\n",
    "\n",
    "for i in range(1,11):\n",
    "    kmeans = KMeans(n_clusters=i)\n",
    "    kmeans.fit(scaled_data)\n",
    "    inertias.append(kmeans.inertia_)\n",
    "\n",
    "plt.plot(range(1,11), inertias, marker='o')\n",
    "plt.title('Elbow method')\n",
    "plt.xlabel('Number of clusters')\n",
    "plt.ylabel('Inertia')\n",
    "plt.show()"
   ]
  },
  {
   "cell_type": "raw",
   "id": "08421d59-d4ec-4cea-8f87-1940307d5b89",
   "metadata": {},
   "source": [
    "From the graph, our K=2 gives the best possible optimal number of clusters. We see an elbow at 2 clusters (corresponding to malignant and benign)."
   ]
  },
  {
   "cell_type": "markdown",
   "id": "95f9b489-eab6-4553-87e5-e940340762f0",
   "metadata": {},
   "source": [
    "#### KMeans Clustering"
   ]
  },
  {
   "cell_type": "code",
   "execution_count": 15,
   "id": "8a48fb30-6a33-43e8-b38a-9e43c72c4ca1",
   "metadata": {},
   "outputs": [
    {
     "data": {
      "text/plain": [
       "0      0\n",
       "1      0\n",
       "2      0\n",
       "3      0\n",
       "4      0\n",
       "      ..\n",
       "564    0\n",
       "565    0\n",
       "566    0\n",
       "567    0\n",
       "568    1\n",
       "Name: Cluster, Length: 569, dtype: int32"
      ]
     },
     "execution_count": 15,
     "metadata": {},
     "output_type": "execute_result"
    }
   ],
   "source": [
    "from sklearn.cluster import KMeans\n",
    "\n",
    "#Initialize KMeans\n",
    "KMeans = KMeans (n_clusters = 2, random_state = 42)\n",
    "\n",
    "#fit the model\n",
    "\n",
    "KMeans.fit(scaled_data)\n",
    "\n",
    "#add the clusters to the original dataframe\n",
    "df['Cluster'] = KMeans.labels_\n",
    "\n",
    "df['Cluster']"
   ]
  },
  {
   "cell_type": "markdown",
   "id": "37e3de8d-9914-46bf-b22c-11905fd9abca",
   "metadata": {},
   "source": [
    "### Principal Component Analysis"
   ]
  },
  {
   "cell_type": "raw",
   "id": "af07cc1a-7df8-4729-8961-69d3a13901b2",
   "metadata": {},
   "source": [
    "Principal component analysis (PCA) is a dimensionality reduction and machine learning method used to simplify a large data set into a smaller set while still maintaining significant patterns and trends."
   ]
  },
  {
   "cell_type": "code",
   "execution_count": 16,
   "id": "5ecad936-2880-4a7c-add8-4b14c20ac2d9",
   "metadata": {},
   "outputs": [],
   "source": [
    "from sklearn.decomposition import PCA\n",
    "\n",
    "#reduce dimensions to 2D for better visualization\n",
    "pca = PCA(n_components = 2)\n",
    "\n",
    "principal_component = pca.fit_transform(scaled_data)"
   ]
  },
  {
   "cell_type": "code",
   "execution_count": 17,
   "id": "6c347272-bf4d-4092-b408-e496c5501352",
   "metadata": {},
   "outputs": [
    {
     "data": {
      "image/png": "[encoded data removed]",
      "text/plain": [
       "<Figure size 1000x600 with 1 Axes>"
      ]
     },
     "metadata": {},
     "output_type": "display_data"
    }
   ],
   "source": [
    "#create a new df with PCA\n",
    "\n",
    "pc_df = pd.DataFrame(data = principal_component, columns = ['PC1', 'PC2'])\n",
    "pc_df['Cluster'] = df['Cluster']\n",
    "\n",
    "# Plot the clusters\n",
    "plt.figure(figsize=(10, 6))\n",
    "for cluster in pc_df['Cluster'].unique():\n",
    "    cluster_data = pc_df[pc_df['Cluster'] == cluster]\n",
    "    plt.scatter(cluster_data['PC1'], cluster_data['PC2'], label=f'Cluster {cluster}')\n",
    "plt.title('K-Means Clustering of Cancer Data')\n",
    "plt.xlabel('Principal Component 1')\n",
    "plt.ylabel('Principal Component 2')\n",
    "plt.legend()\n",
    "plt.show()"
   ]
  },
  {
   "cell_type": "markdown",
   "id": "e488e681-b6a0-45a0-97c5-d5ee5f7b3e93",
   "metadata": {},
   "source": [
    "## The malignant(M) cancerous cell is Cluster 0 and the benign(B) cancerous cell is Cluster 1"
   ]
  }
 ],
 "metadata": {
  "kernelspec": {
   "display_name": "Python 3 (ipykernel)",
   "language": "python",
   "name": "python3"
  },
  "language_info": {
   "codemirror_mode": {
    "name": "ipython",
    "version": 3
   },
   "file_extension": ".py",
   "mimetype": "text/x-python",
   "name": "python",
   "nbconvert_exporter": "python",
   "pygments_lexer": "ipython3",
   "version": "3.11.7"
  }
 },
 "nbformat": 4,
 "nbformat_minor": 5
}
